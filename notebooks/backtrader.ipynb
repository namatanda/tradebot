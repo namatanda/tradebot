{
 "cells": [
  {
   "cell_type": "code",
   "execution_count": 1,
   "metadata": {},
   "outputs": [],
   "source": [
    "from __future__ import (absolute_import, division, print_function,\n",
    "                        unicode_literals)"
   ]
  },
  {
   "cell_type": "code",
   "execution_count": 2,
   "metadata": {},
   "outputs": [],
   "source": [
    "import pandas as pd\n",
    "import backtrader as bt"
   ]
  },
  {
   "cell_type": "code",
   "execution_count": 23,
   "metadata": {},
   "outputs": [],
   "source": [
    "class SMCross(bt.Strategy):\n",
    "    params = dict(\n",
    "        pfast = 10,\n",
    "        pslow = 30\n",
    "    )\n",
    "\n",
    "    def __init__(self):\n",
    "\n",
    "        self.close_price = self.datas[0].close\n",
    "        self.order = None\n",
    "        fast_sma = bt.ind.SMA(self.datas[0], period=self.p.pfast)\n",
    "        slow_sma = bt.ind.SMA(self.datas[0], period=self.p.pslow)\n",
    "        self.crossover = bt.ind.CrossOver(fast_sma, slow_sma)\n",
    "\n",
    "\n",
    "    def log(self, text, dt=None):\n",
    "        date = dt or self.datas[0].datetime.date(0)\n",
    "        print(f'{date}: {text}')\n",
    "\n",
    "\n",
    "    def notify_trade(self, trade):\n",
    "        pass\n",
    "\n",
    "    def notify_order(self, order):\n",
    "        if order.status in [order.Submitted, order.Accepted]:\n",
    "            return\n",
    "        \n",
    "        if order.status in [order.Completed]:\n",
    "            if order.isbuy():\n",
    "                self.log(f'Buy has been executed at {order.executed.price}')\n",
    "\n",
    "            elif order.issell():\n",
    "                self.log(f'Sell has been executed at {order.executed.price}')\n",
    "        elif order.status in [order.Cancelled, order.Margin, order.Rejected]:\n",
    "            self.log(\"Order has not gone through\")\n",
    "        \n",
    "        self.order = None\n",
    "\n",
    "    def next(self):\n",
    "\n",
    "        if self.order:\n",
    "            return\n",
    "            \n",
    "        if not self.position:\n",
    "            if self.crossover > 0:\n",
    "                self.log(f'Buy order at: {self.close_price[1]}')\n",
    "                self.buy()\n",
    "                \n",
    "        elif self.crossover < 0:\n",
    "            self.log(f'Sell order at: {self.close_price[1]}')\n",
    "            self.sell()"
   ]
  },
  {
   "cell_type": "code",
   "execution_count": 25,
   "metadata": {},
   "outputs": [
    {
     "name": "stdout",
     "output_type": "stream",
     "text": [
      "Opening bal was 10000.0\n",
      "2023-01-25: Buy order at: 160.27\n",
      "2023-01-26: Buy has been executed at 159.97\n",
      "2023-03-10: Sell order at: 174.48\n",
      "2023-03-13: Sell has been executed at 167.46\n",
      "2023-03-31: Buy order at: 194.77\n",
      "2023-04-03: Buy has been executed at 199.91\n",
      "2023-04-17: Sell order at: 184.31\n",
      "2023-04-18: Sell has been executed at 187.15\n",
      "2023-05-19: Buy order at: 188.87\n",
      "2023-05-22: Buy has been executed at 180.7\n",
      "2023-08-01: Sell order at: 254.11\n",
      "2023-08-02: Sell has been executed at 255.57\n",
      "2023-09-06: Buy order at: 251.49\n",
      "2023-09-07: Buy has been executed at 245.07\n",
      "2023-10-02: Sell order at: 246.53\n",
      "2023-10-03: Sell has been executed at 248.61\n",
      "2023-10-12: Buy order at: 251.12\n",
      "2023-10-13: Buy has been executed at 258.9\n",
      "2023-10-18: Sell order at: 220.11\n",
      "2023-10-19: Sell has been executed at 225.95\n",
      "Closing bal is 10040.19\n"
     ]
    }
   ],
   "source": [
    "import datetime\n",
    "cerebro = bt.Cerebro()\n",
    "datapath = '../data/TSLA.csv'\n",
    "data = bt.feeds.YahooFinanceCSVData(dataname=datapath, fromdate=datetime.datetime(2022, 10, 31), todate=datetime.datetime(2023, 10, 30),)  \n",
    "cerebro.adddata(data)\n",
    "cerebro.addstrategy(SMCross)\n",
    "print(f'Opening bal was {cerebro.broker.get_cash()}')\n",
    "cerebro.run()\n",
    "print(f'Closing bal is {cerebro.broker.get_cash()}')\n",
    "#cerebro.plot() "
   ]
  }
 ],
 "metadata": {
  "kernelspec": {
   "display_name": ".venv",
   "language": "python",
   "name": "python3"
  },
  "language_info": {
   "codemirror_mode": {
    "name": "ipython",
    "version": 3
   },
   "file_extension": ".py",
   "mimetype": "text/x-python",
   "name": "python",
   "nbconvert_exporter": "python",
   "pygments_lexer": "ipython3",
   "version": "3.11.6"
  }
 },
 "nbformat": 4,
 "nbformat_minor": 2
}
