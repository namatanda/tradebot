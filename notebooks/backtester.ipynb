{
 "cells": [
  {
   "cell_type": "code",
   "execution_count": 22,
   "metadata": {},
   "outputs": [],
   "source": [
    "import os\n",
    "import sys\n",
    "import backtrader as bt\n",
    "import datetime\n",
    "import mplfinance\n",
    "import pandas as pd "
   ]
  },
  {
   "cell_type": "code",
   "execution_count": 35,
   "metadata": {},
   "outputs": [],
   "source": [
    "class DonchianChannel(bt.Indicator):\n",
    "    lines = ('upper', 'lower')\n",
    "\n",
    "    params = (('period', 20),)\n",
    "\n",
    "    def __init__(self):\n",
    "        self.addminperiod(self.params.period + 1)  # Ensure enough historical data\n",
    "\n",
    "    def next(self):\n",
    "        if len(self) >= self.params.period:\n",
    "            highest_high = max(self.datas[0].high.get(size=self.params.period))\n",
    "            lowest_low = min(self.datas[0].low.get(size=self.params.period))\n",
    "            self.lines.upper[0] = highest_high\n",
    "            self.lines.lower[0] = lowest_low"
   ]
  },
  {
   "cell_type": "code",
   "execution_count": 36,
   "metadata": {},
   "outputs": [],
   "source": [
    "class EMAStrategy(bt.Strategy):\n",
    "    params = (('fast_ema', 12), ('slow_ema', 26), ('signal_ema', 9), ('donchian_period', 20),)\n",
    "\n",
    "    def __init__(self):\n",
    "        self.dataclose = self.datas[0].close\n",
    "        self.fast_ema = bt.indicators.ExponentialMovingAverage(self.datas[0].close, period=self.params.fast_ema)\n",
    "        self.slow_ema = bt.indicators.ExponentialMovingAverage(self.datas[0].close, period=self.params.slow_ema)\n",
    "        self.signal_ema = bt.indicators.ExponentialMovingAverage(self.datas[0].close, period=self.params.signal_ema)\n",
    "        self.donchian = DonchianChannel(self.datas[0])\n",
    "\n",
    "    def next(self):\n",
    "        if self.fast_ema > self.slow_ema and self.dataclose[0] > self.donchian.lines.upper:\n",
    "            self.buy()\n",
    "        elif self.fast_ema < self.slow_ema and self.dataclose[0] < self.donchian.lines.lower:\n",
    "            self.sell()"
   ]
  },
  {
   "cell_type": "code",
   "execution_count": 37,
   "metadata": {},
   "outputs": [
    {
     "name": "stdout",
     "output_type": "stream",
     "text": [
      "Starting Portfolio Value: 100000\n",
      "Ending Portfolio Value: 100000.0\n"
     ]
    }
   ],
   "source": [
    "cerebro = bt.Cerebro()\n",
    "#modpath = os.path.dirname(os.path.abspath(sys.argv[0]))    \n",
    "datapath = '../data/TSLA.csv'\n",
    "data = bt.feeds.YahooFinanceCSVData(dataname=datapath, fromdate=datetime.datetime(2022, 10, 31), todate=datetime.datetime(2023, 4, 30),)  \n",
    "cerebro.adddata(data)\n",
    "cerebro.addstrategy(EMAStrategy)\n",
    "\n",
    "cerebro.broker.set_cash(100000)\n",
    "# Set the commission for buying and selling\n",
    "cerebro.broker.setcommission(commission=0.001)\n",
    "\n",
    "# Print the starting cash amount\n",
    "print(f'Starting Portfolio Value: {cerebro.broker.getvalue()}')\n",
    "\n",
    "cerebro.run()\n",
    "\n",
    "print(f'Ending Portfolio Value: {cerebro.broker.getvalue()}')"
   ]
  }
 ],
 "metadata": {
  "kernelspec": {
   "display_name": ".venv",
   "language": "python",
   "name": "python3"
  },
  "language_info": {
   "codemirror_mode": {
    "name": "ipython",
    "version": 3
   },
   "file_extension": ".py",
   "mimetype": "text/x-python",
   "name": "python",
   "nbconvert_exporter": "python",
   "pygments_lexer": "ipython3",
   "version": "3.11.6"
  }
 },
 "nbformat": 4,
 "nbformat_minor": 2
}
